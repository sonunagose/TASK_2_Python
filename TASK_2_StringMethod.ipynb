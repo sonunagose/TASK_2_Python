{
 "cells": [
  {
   "cell_type": "code",
   "execution_count": 1,
   "id": "f3fbc359-3a64-4b48-80db-3dbd88885705",
   "metadata": {},
   "outputs": [],
   "source": [
    "# create string type variable"
   ]
  },
  {
   "cell_type": "code",
   "execution_count": 19,
   "id": "1405ef1f-7bd4-4a6b-bff0-006b609099b4",
   "metadata": {},
   "outputs": [
    {
     "name": "stdout",
     "output_type": "stream",
     "text": [
      "python\n",
      "I love python\n"
     ]
    }
   ],
   "source": [
    "name = \"python\"\n",
    "print('python')\n",
    "\n",
    "message = \"I love python\"\n",
    "print('I love python')"
   ]
  },
  {
   "cell_type": "code",
   "execution_count": 21,
   "id": "44cdafc4-27fb-448a-b99c-aac8f93846b9",
   "metadata": {},
   "outputs": [],
   "source": [
    "# Multiline String"
   ]
  },
  {
   "cell_type": "code",
   "execution_count": 31,
   "id": "52ea8117-8c3e-4aab-805c-f8fd9ea5d14b",
   "metadata": {},
   "outputs": [
    {
     "name": "stdout",
     "output_type": "stream",
     "text": [
      " \n",
      "Never give up\n",
      "Never give let down \n",
      "\n"
     ]
    }
   ],
   "source": [
    "message = \"\"\" \n",
    "Never give up\n",
    "Never give let down \n",
    "\"\"\"\n",
    "print (message)"
   ]
  },
  {
   "cell_type": "code",
   "execution_count": 33,
   "id": "489c53b6-8bba-425c-8eb8-efed52e579ee",
   "metadata": {},
   "outputs": [],
   "source": [
    "# Compare Two String "
   ]
  },
  {
   "cell_type": "code",
   "execution_count": 35,
   "id": "fc690bff-c66d-4e25-b448-8b3cfcf5e0a6",
   "metadata": {},
   "outputs": [
    {
     "name": "stdout",
     "output_type": "stream",
     "text": [
      "False\n",
      "False\n"
     ]
    }
   ],
   "source": [
    "str1 = \"Hello , World!\"\n",
    "str2 = \"I love python\"\n",
    "str3 = \"Hello, World\"\n",
    "\n",
    "print(str1 == str2)\n",
    "print(str1 == str3)\n"
   ]
  },
  {
   "cell_type": "code",
   "execution_count": 37,
   "id": "d6c732c7-4dc6-4242-ba98-6f825d8bc917",
   "metadata": {},
   "outputs": [],
   "source": [
    "# join Two or More String"
   ]
  },
  {
   "cell_type": "code",
   "execution_count": 39,
   "id": "5fff59b9-aef6-4439-84a5-fad8f5805c8e",
   "metadata": {},
   "outputs": [
    {
     "name": "stdout",
     "output_type": "stream",
     "text": [
      "Hello,  Jack\n"
     ]
    }
   ],
   "source": [
    "greet = \"Hello, \"\n",
    "name = \" Jack\"\n",
    "\n",
    "result = greet + name \n",
    "print(result)"
   ]
  },
  {
   "cell_type": "code",
   "execution_count": 41,
   "id": "d8bc06f8-e464-4eaf-8a2c-f8bc7252ee16",
   "metadata": {},
   "outputs": [],
   "source": [
    "# Iterate Through String"
   ]
  },
  {
   "cell_type": "code",
   "execution_count": 43,
   "id": "b756c217-9b22-4a2d-b836-83ea84c090e4",
   "metadata": {},
   "outputs": [
    {
     "name": "stdout",
     "output_type": "stream",
     "text": [
      "H\n",
      "e\n",
      "l\n",
      "l\n",
      "o\n"
     ]
    }
   ],
   "source": [
    "greet = 'Hello'\n",
    "for letter in greet:\n",
    "    print(letter)\n"
   ]
  },
  {
   "cell_type": "code",
   "execution_count": 45,
   "id": "05cdf16b-3fc1-416f-9d6e-d0221a36c393",
   "metadata": {},
   "outputs": [],
   "source": [
    "# String Length"
   ]
  },
  {
   "cell_type": "code",
   "execution_count": 47,
   "id": "7605e568-414c-4a61-a16d-d7e18f85e68b",
   "metadata": {},
   "outputs": [
    {
     "name": "stdout",
     "output_type": "stream",
     "text": [
      "5\n"
     ]
    }
   ],
   "source": [
    "# count length of greet string\n",
    "\n",
    "print(len(greet))"
   ]
  },
  {
   "cell_type": "code",
   "execution_count": 49,
   "id": "88922f42-1293-4d3c-bc68-025dffd5fd33",
   "metadata": {},
   "outputs": [],
   "source": [
    "# String Membership Test"
   ]
  },
  {
   "cell_type": "code",
   "execution_count": 51,
   "id": "36fec48d-a184-423e-a48d-a0138845d0c5",
   "metadata": {},
   "outputs": [
    {
     "name": "stdout",
     "output_type": "stream",
     "text": [
      "True\n",
      "False\n"
     ]
    }
   ],
   "source": [
    "print('a' in 'program') \n",
    "print('at' not in 'battle')"
   ]
  },
  {
   "cell_type": "code",
   "execution_count": 53,
   "id": "7ae82a19-e8a5-4bcc-9110-b12ea678f5b1",
   "metadata": {},
   "outputs": [],
   "source": [
    "# F-String Formatting"
   ]
  },
  {
   "cell_type": "code",
   "execution_count": 55,
   "id": "f22e1ef3-3605-46a9-9c7c-8ef6f6901bbc",
   "metadata": {},
   "outputs": [
    {
     "name": "stdout",
     "output_type": "stream",
     "text": [
      "Jerry is from India\n"
     ]
    }
   ],
   "source": [
    "name = 'Jerry'\n",
    "Country = 'India'\n",
    "\n",
    "print(f'{name} is from {Country}')"
   ]
  },
  {
   "cell_type": "code",
   "execution_count": 57,
   "id": "9c44640a-8c09-4060-8d9f-38debfc1861f",
   "metadata": {},
   "outputs": [],
   "source": [
    "# Template String"
   ]
  },
  {
   "cell_type": "code",
   "execution_count": 61,
   "id": "69f2cada-dc83-4709-ad93-6e3d90296a7f",
   "metadata": {},
   "outputs": [
    {
     "name": "stdout",
     "output_type": "stream",
     "text": [
      "Hello Jerry! This is python.\n"
     ]
    }
   ],
   "source": [
    "from string import Template \n",
    "name = 'Jerry'\n",
    "program = 'python'\n",
    "new = Template('Hello $name! This is $program.')\n",
    "print(new.substitute(name = name, program = program))"
   ]
  },
  {
   "cell_type": "code",
   "execution_count": 63,
   "id": "05ebaf9c-6803-4cad-9a47-768f0bfc0bc9",
   "metadata": {},
   "outputs": [],
   "source": [
    "# Upper Case Function"
   ]
  },
  {
   "cell_type": "code",
   "execution_count": 65,
   "id": "be463300-96a5-4983-a5d0-f00dabb65df0",
   "metadata": {},
   "outputs": [
    {
     "name": "stdout",
     "output_type": "stream",
     "text": [
      "PYTHON IS VERY INTERESTING\n"
     ]
    }
   ],
   "source": [
    "text = 'python is very interesting'\n",
    "print(text.upper())"
   ]
  },
  {
   "cell_type": "code",
   "execution_count": 67,
   "id": "3ed9d6c0-5898-4b1b-8415-fe55d8b512dd",
   "metadata": {},
   "outputs": [],
   "source": [
    "# Lower Case "
   ]
  },
  {
   "cell_type": "code",
   "execution_count": 69,
   "id": "0e2fa36f-940f-4399-b188-477d8e02d320",
   "metadata": {},
   "outputs": [
    {
     "name": "stdout",
     "output_type": "stream",
     "text": [
      "python is very interesting\n"
     ]
    }
   ],
   "source": [
    "text = 'python is very interesting'\n",
    "\n",
    "print(text.lower())"
   ]
  },
  {
   "cell_type": "code",
   "execution_count": 71,
   "id": "53be6923-8063-4a04-bc2d-8042cca7ed8b",
   "metadata": {},
   "outputs": [],
   "source": [
    "# Upper & Loer Case"
   ]
  },
  {
   "cell_type": "code",
   "execution_count": 73,
   "id": "66e1d5ea-4d1c-4cb0-b71e-4b5103608f58",
   "metadata": {},
   "outputs": [
    {
     "name": "stdout",
     "output_type": "stream",
     "text": [
      "Python Is Very Interesting\n"
     ]
    }
   ],
   "source": [
    "text = 'python is very interesting'\n",
    "\n",
    "print(text.title())"
   ]
  },
  {
   "cell_type": "code",
   "execution_count": 75,
   "id": "b255a078-6bc3-4367-9e54-a0c69cce630f",
   "metadata": {},
   "outputs": [],
   "source": [
    "# Swaps Case"
   ]
  },
  {
   "cell_type": "code",
   "execution_count": 77,
   "id": "657dc31a-5af7-4bd2-9e9d-2becd6ebc6cb",
   "metadata": {},
   "outputs": [
    {
     "name": "stdout",
     "output_type": "stream",
     "text": [
      "PYTHON IS VERY INTERESTING\n"
     ]
    }
   ],
   "source": [
    "text = 'python is very interesting'\n",
    "\n",
    "print(text.swapcase())"
   ]
  },
  {
   "cell_type": "code",
   "execution_count": 79,
   "id": "5afe9a28-e29d-4ef9-a236-87df79c72eca",
   "metadata": {},
   "outputs": [],
   "source": [
    "# Capitalize "
   ]
  },
  {
   "cell_type": "code",
   "execution_count": 83,
   "id": "114ebe58-a413-41ea-bfe4-edba66cd2ca5",
   "metadata": {},
   "outputs": [
    {
     "name": "stdout",
     "output_type": "stream",
     "text": [
      "Python is very interesting\n"
     ]
    }
   ],
   "source": [
    "text = 'python is very interesting'\n",
    "\n",
    "print(text.capitalize())"
   ]
  },
  {
   "cell_type": "code",
   "execution_count": 85,
   "id": "35e48dcd-6ccc-4f7a-b199-0baeafb80ba1",
   "metadata": {},
   "outputs": [
    {
     "name": "stdout",
     "output_type": "stream",
     "text": [
      "python is very interesting\n"
     ]
    }
   ],
   "source": [
    "# Orignal string never change\n",
    "\n",
    "print(text)"
   ]
  },
  {
   "cell_type": "code",
   "execution_count": 87,
   "id": "ae165a89-d98f-457b-9d58-6e44fea47185",
   "metadata": {},
   "outputs": [],
   "source": [
    "# Replace Characters"
   ]
  },
  {
   "cell_type": "code",
   "execution_count": 89,
   "id": "8ec83ed2-a70b-40d1-ae12-4b9c85c449fd",
   "metadata": {},
   "outputs": [
    {
     "name": "stdout",
     "output_type": "stream",
     "text": [
      " world python\n"
     ]
    }
   ],
   "source": [
    "text = 'python is very interesting'\n",
    "replaced_text =(\" world python\")\n",
    "print(replaced_text)"
   ]
  },
  {
   "cell_type": "code",
   "execution_count": 91,
   "id": "0a4fbbbc-cf76-43f1-9d67-f853520a511d",
   "metadata": {},
   "outputs": [],
   "source": [
    "# Refind Method"
   ]
  },
  {
   "cell_type": "code",
   "execution_count": 93,
   "id": "7fdbe206-76e2-4d0c-aab3-9f73ad55562d",
   "metadata": {},
   "outputs": [
    {
     "name": "stdout",
     "output_type": "stream",
     "text": [
      "8\n"
     ]
    }
   ],
   "source": [
    "string = \"GeeksForGeeks\"\n",
    "\n",
    "print(string.rfind(\"Geeks\"))"
   ]
  },
  {
   "cell_type": "code",
   "execution_count": 95,
   "id": "3d337dea-1644-410a-be20-c0cfd60a7e56",
   "metadata": {},
   "outputs": [],
   "source": [
    "# Find Method"
   ]
  },
  {
   "cell_type": "code",
   "execution_count": 97,
   "id": "2e490d9f-ad04-4d8a-beef-424ee9992390",
   "metadata": {},
   "outputs": [
    {
     "name": "stdout",
     "output_type": "stream",
     "text": [
      "0\n"
     ]
    }
   ],
   "source": [
    "string = \"GeeksForGeeks\"\n",
    "\n",
    "print(string.find(\"Geeks\"))"
   ]
  },
  {
   "cell_type": "code",
   "execution_count": null,
   "id": "ab2a3696-8994-499f-a69e-31a00995fc00",
   "metadata": {},
   "outputs": [],
   "source": []
  }
 ],
 "metadata": {
  "kernelspec": {
   "display_name": "Python 3 (ipykernel)",
   "language": "python",
   "name": "python3"
  },
  "language_info": {
   "codemirror_mode": {
    "name": "ipython",
    "version": 3
   },
   "file_extension": ".py",
   "mimetype": "text/x-python",
   "name": "python",
   "nbconvert_exporter": "python",
   "pygments_lexer": "ipython3",
   "version": "3.12.4"
  }
 },
 "nbformat": 4,
 "nbformat_minor": 5
}
